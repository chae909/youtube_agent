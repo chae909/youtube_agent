{
 "cells": [
  {
   "cell_type": "code",
   "execution_count": 1,
   "id": "f295d2f9",
   "metadata": {},
   "outputs": [
    {
     "name": "stdout",
     "output_type": "stream",
     "text": [
      "Requirement already satisfied: openai in c:\\ai_prompt\\second\\ai_agent\\ai_agent_work2\\youtube_agent\\.venv\\lib\\site-packages (1.58.1)\n",
      "Requirement already satisfied: python-dotenv in c:\\ai_prompt\\second\\ai_agent\\ai_agent_work2\\youtube_agent\\.venv\\lib\\site-packages (1.0.1)\n",
      "Requirement already satisfied: youtube-transcript-api in c:\\ai_prompt\\second\\ai_agent\\ai_agent_work2\\youtube_agent\\.venv\\lib\\site-packages (1.1.0)\n",
      "Requirement already satisfied: langchain>=0.2.0 in c:\\ai_prompt\\second\\ai_agent\\ai_agent_work2\\youtube_agent\\.venv\\lib\\site-packages (0.3.13)\n",
      "Requirement already satisfied: anyio<5,>=3.5.0 in c:\\ai_prompt\\second\\ai_agent\\ai_agent_work2\\youtube_agent\\.venv\\lib\\site-packages (from openai) (4.7.0)\n",
      "Requirement already satisfied: distro<2,>=1.7.0 in c:\\ai_prompt\\second\\ai_agent\\ai_agent_work2\\youtube_agent\\.venv\\lib\\site-packages (from openai) (1.9.0)\n",
      "Requirement already satisfied: httpx<1,>=0.23.0 in c:\\ai_prompt\\second\\ai_agent\\ai_agent_work2\\youtube_agent\\.venv\\lib\\site-packages (from openai) (0.27.2)\n",
      "Requirement already satisfied: jiter<1,>=0.4.0 in c:\\ai_prompt\\second\\ai_agent\\ai_agent_work2\\youtube_agent\\.venv\\lib\\site-packages (from openai) (0.8.2)\n",
      "Requirement already satisfied: pydantic<3,>=1.9.0 in c:\\ai_prompt\\second\\ai_agent\\ai_agent_work2\\youtube_agent\\.venv\\lib\\site-packages (from openai) (2.9.2)\n",
      "Requirement already satisfied: sniffio in c:\\ai_prompt\\second\\ai_agent\\ai_agent_work2\\youtube_agent\\.venv\\lib\\site-packages (from openai) (1.3.1)\n",
      "Requirement already satisfied: tqdm>4 in c:\\ai_prompt\\second\\ai_agent\\ai_agent_work2\\youtube_agent\\.venv\\lib\\site-packages (from openai) (4.67.1)\n",
      "Requirement already satisfied: typing-extensions<5,>=4.11 in c:\\ai_prompt\\second\\ai_agent\\ai_agent_work2\\youtube_agent\\.venv\\lib\\site-packages (from openai) (4.12.2)\n",
      "Requirement already satisfied: defusedxml<0.8.0,>=0.7.1 in c:\\ai_prompt\\second\\ai_agent\\ai_agent_work2\\youtube_agent\\.venv\\lib\\site-packages (from youtube-transcript-api) (0.7.1)\n",
      "Requirement already satisfied: requests in c:\\ai_prompt\\second\\ai_agent\\ai_agent_work2\\youtube_agent\\.venv\\lib\\site-packages (from youtube-transcript-api) (2.32.3)\n",
      "Requirement already satisfied: PyYAML>=5.3 in c:\\ai_prompt\\second\\ai_agent\\ai_agent_work2\\youtube_agent\\.venv\\lib\\site-packages (from langchain>=0.2.0) (6.0.2)\n",
      "Requirement already satisfied: SQLAlchemy<3,>=1.4 in c:\\ai_prompt\\second\\ai_agent\\ai_agent_work2\\youtube_agent\\.venv\\lib\\site-packages (from langchain>=0.2.0) (2.0.36)\n",
      "Requirement already satisfied: aiohttp<4.0.0,>=3.8.3 in c:\\ai_prompt\\second\\ai_agent\\ai_agent_work2\\youtube_agent\\.venv\\lib\\site-packages (from langchain>=0.2.0) (3.11.11)\n",
      "Requirement already satisfied: langchain-core<0.4.0,>=0.3.26 in c:\\ai_prompt\\second\\ai_agent\\ai_agent_work2\\youtube_agent\\.venv\\lib\\site-packages (from langchain>=0.2.0) (0.3.63)\n",
      "Requirement already satisfied: langchain-text-splitters<0.4.0,>=0.3.3 in c:\\ai_prompt\\second\\ai_agent\\ai_agent_work2\\youtube_agent\\.venv\\lib\\site-packages (from langchain>=0.2.0) (0.3.4)\n",
      "Requirement already satisfied: langsmith<0.3,>=0.1.17 in c:\\ai_prompt\\second\\ai_agent\\ai_agent_work2\\youtube_agent\\.venv\\lib\\site-packages (from langchain>=0.2.0) (0.2.6)\n",
      "Requirement already satisfied: numpy<2,>=1.22.4 in c:\\ai_prompt\\second\\ai_agent\\ai_agent_work2\\youtube_agent\\.venv\\lib\\site-packages (from langchain>=0.2.0) (1.26.4)\n",
      "Requirement already satisfied: tenacity!=8.4.0,<10,>=8.1.0 in c:\\ai_prompt\\second\\ai_agent\\ai_agent_work2\\youtube_agent\\.venv\\lib\\site-packages (from langchain>=0.2.0) (9.0.0)\n",
      "Requirement already satisfied: aiohappyeyeballs>=2.3.0 in c:\\ai_prompt\\second\\ai_agent\\ai_agent_work2\\youtube_agent\\.venv\\lib\\site-packages (from aiohttp<4.0.0,>=3.8.3->langchain>=0.2.0) (2.4.4)\n",
      "Requirement already satisfied: aiosignal>=1.1.2 in c:\\ai_prompt\\second\\ai_agent\\ai_agent_work2\\youtube_agent\\.venv\\lib\\site-packages (from aiohttp<4.0.0,>=3.8.3->langchain>=0.2.0) (1.3.2)\n",
      "Requirement already satisfied: attrs>=17.3.0 in c:\\ai_prompt\\second\\ai_agent\\ai_agent_work2\\youtube_agent\\.venv\\lib\\site-packages (from aiohttp<4.0.0,>=3.8.3->langchain>=0.2.0) (24.3.0)\n",
      "Requirement already satisfied: frozenlist>=1.1.1 in c:\\ai_prompt\\second\\ai_agent\\ai_agent_work2\\youtube_agent\\.venv\\lib\\site-packages (from aiohttp<4.0.0,>=3.8.3->langchain>=0.2.0) (1.5.0)\n",
      "Requirement already satisfied: multidict<7.0,>=4.5 in c:\\ai_prompt\\second\\ai_agent\\ai_agent_work2\\youtube_agent\\.venv\\lib\\site-packages (from aiohttp<4.0.0,>=3.8.3->langchain>=0.2.0) (6.1.0)\n",
      "Requirement already satisfied: propcache>=0.2.0 in c:\\ai_prompt\\second\\ai_agent\\ai_agent_work2\\youtube_agent\\.venv\\lib\\site-packages (from aiohttp<4.0.0,>=3.8.3->langchain>=0.2.0) (0.2.1)\n",
      "Requirement already satisfied: yarl<2.0,>=1.17.0 in c:\\ai_prompt\\second\\ai_agent\\ai_agent_work2\\youtube_agent\\.venv\\lib\\site-packages (from aiohttp<4.0.0,>=3.8.3->langchain>=0.2.0) (1.18.3)\n",
      "Requirement already satisfied: idna>=2.8 in c:\\ai_prompt\\second\\ai_agent\\ai_agent_work2\\youtube_agent\\.venv\\lib\\site-packages (from anyio<5,>=3.5.0->openai) (3.10)\n",
      "Requirement already satisfied: certifi in c:\\ai_prompt\\second\\ai_agent\\ai_agent_work2\\youtube_agent\\.venv\\lib\\site-packages (from httpx<1,>=0.23.0->openai) (2024.12.14)\n",
      "Requirement already satisfied: httpcore==1.* in c:\\ai_prompt\\second\\ai_agent\\ai_agent_work2\\youtube_agent\\.venv\\lib\\site-packages (from httpx<1,>=0.23.0->openai) (1.0.7)\n",
      "Requirement already satisfied: h11<0.15,>=0.13 in c:\\ai_prompt\\second\\ai_agent\\ai_agent_work2\\youtube_agent\\.venv\\lib\\site-packages (from httpcore==1.*->httpx<1,>=0.23.0->openai) (0.14.0)\n",
      "Requirement already satisfied: jsonpatch<2.0,>=1.33 in c:\\ai_prompt\\second\\ai_agent\\ai_agent_work2\\youtube_agent\\.venv\\lib\\site-packages (from langchain-core<0.4.0,>=0.3.26->langchain>=0.2.0) (1.33)\n",
      "Requirement already satisfied: packaging<25,>=23.2 in c:\\ai_prompt\\second\\ai_agent\\ai_agent_work2\\youtube_agent\\.venv\\lib\\site-packages (from langchain-core<0.4.0,>=0.3.26->langchain>=0.2.0) (24.2)\n",
      "Requirement already satisfied: orjson<4.0.0,>=3.9.14 in c:\\ai_prompt\\second\\ai_agent\\ai_agent_work2\\youtube_agent\\.venv\\lib\\site-packages (from langsmith<0.3,>=0.1.17->langchain>=0.2.0) (3.10.12)\n",
      "Requirement already satisfied: requests-toolbelt<2.0.0,>=1.0.0 in c:\\ai_prompt\\second\\ai_agent\\ai_agent_work2\\youtube_agent\\.venv\\lib\\site-packages (from langsmith<0.3,>=0.1.17->langchain>=0.2.0) (1.0.0)\n",
      "Requirement already satisfied: annotated-types>=0.6.0 in c:\\ai_prompt\\second\\ai_agent\\ai_agent_work2\\youtube_agent\\.venv\\lib\\site-packages (from pydantic<3,>=1.9.0->openai) (0.7.0)\n",
      "Requirement already satisfied: pydantic-core==2.23.4 in c:\\ai_prompt\\second\\ai_agent\\ai_agent_work2\\youtube_agent\\.venv\\lib\\site-packages (from pydantic<3,>=1.9.0->openai) (2.23.4)\n",
      "Requirement already satisfied: charset-normalizer<4,>=2 in c:\\ai_prompt\\second\\ai_agent\\ai_agent_work2\\youtube_agent\\.venv\\lib\\site-packages (from requests->youtube-transcript-api) (3.4.1)\n",
      "Requirement already satisfied: urllib3<3,>=1.21.1 in c:\\ai_prompt\\second\\ai_agent\\ai_agent_work2\\youtube_agent\\.venv\\lib\\site-packages (from requests->youtube-transcript-api) (2.3.0)\n",
      "Requirement already satisfied: greenlet!=0.4.17 in c:\\ai_prompt\\second\\ai_agent\\ai_agent_work2\\youtube_agent\\.venv\\lib\\site-packages (from SQLAlchemy<3,>=1.4->langchain>=0.2.0) (3.2.3)\n",
      "Requirement already satisfied: colorama in c:\\ai_prompt\\second\\ai_agent\\ai_agent_work2\\youtube_agent\\.venv\\lib\\site-packages (from tqdm>4->openai) (0.4.6)\n",
      "Requirement already satisfied: jsonpointer>=1.9 in c:\\ai_prompt\\second\\ai_agent\\ai_agent_work2\\youtube_agent\\.venv\\lib\\site-packages (from jsonpatch<2.0,>=1.33->langchain-core<0.4.0,>=0.3.26->langchain>=0.2.0) (3.0.0)\n",
      "Note: you may need to restart the kernel to use updated packages.\n"
     ]
    },
    {
     "name": "stderr",
     "output_type": "stream",
     "text": [
      "\n",
      "[notice] A new release of pip is available: 24.0 -> 25.1.1\n",
      "[notice] To update, run: python.exe -m pip install --upgrade pip\n"
     ]
    }
   ],
   "source": [
    "pip install openai python-dotenv youtube-transcript-api \"langchain>=0.2.0\""
   ]
  },
  {
   "cell_type": "code",
   "execution_count": 2,
   "id": "44410d4e",
   "metadata": {},
   "outputs": [],
   "source": [
    "from youtube_transcript_api import YouTubeTranscriptApi\n",
    "from urllib.parse import urlparse, parse_qs\n",
    "from langchain_openai import ChatOpenAI\n",
    "from langgraph.graph import StateGraph, END\n",
    "from langchain_core.messages import SystemMessage, HumanMessage\n",
    "from typing import TypedDict, List, Union\n",
    "from langchain_core.messages import AnyMessage"
   ]
  },
  {
   "cell_type": "code",
   "execution_count": 3,
   "id": "4e72258e",
   "metadata": {},
   "outputs": [
    {
     "data": {
      "text/plain": [
       "True"
      ]
     },
     "execution_count": 3,
     "metadata": {},
     "output_type": "execute_result"
    }
   ],
   "source": [
    "from dotenv import load_dotenv\n",
    "load_dotenv()"
   ]
  },
  {
   "cell_type": "code",
   "execution_count": 4,
   "id": "70713f4f",
   "metadata": {},
   "outputs": [],
   "source": [
    "MAX_TRANSCRIPT_CHARS = 100000\n",
    "llm = ChatOpenAI(model=\"gpt-4o-mini\", streaming=True)"
   ]
  },
  {
   "cell_type": "code",
   "execution_count": 5,
   "id": "b3ee3ef0",
   "metadata": {},
   "outputs": [],
   "source": [
    "class AgentState(TypedDict):\n",
    "    messages: List[Union[dict, AnyMessage]]\n",
    "    transcript: str\n",
    "    summary: str"
   ]
  },
  {
   "cell_type": "code",
   "execution_count": 6,
   "id": "940a188e",
   "metadata": {},
   "outputs": [],
   "source": [
    "def get_script_node(state: AgentState) -> dict:\n",
    "    \"\"\"유튜브 URL에서 자막을 추출하고 상태에 저장합니다.\"\"\"\n",
    "    print(\"1. 자막 추출\")\n",
    "    last_message = state[\"messages\"][-1]\n",
    "    video_url = last_message['content'] if isinstance(last_message, dict) else last_message.content\n",
    "\n",
    "    video_id = None\n",
    "    try:\n",
    "        parsed_url = urlparse(video_url)\n",
    "        hostname = parsed_url.hostname or \"\"\n",
    "        if \"youtube.com\" in hostname:\n",
    "            qs = parse_qs(parsed_url.query)\n",
    "            video_id = qs.get(\"v\", [None])[0]\n",
    "        elif \"youtu.be\" in hostname:\n",
    "            # path가 \"/U6nnxml9GRs\" 형태이므로, \"/\"를 제거\n",
    "            video_id = parsed_url.path.lstrip(\"/\")\n",
    "        elif \"googleusercontent.com/youtube.com\" in video_url:\n",
    "            if \"/v/\" in parsed_url.path:\n",
    "                video_id = parsed_url.path.split('/v/')[1]\n",
    "            else:\n",
    "                qs = parse_qs(parsed_url.query)\n",
    "                video_id = qs.get(\"v\", [None])[0]\n",
    "\n",
    "        if not video_id:\n",
    "            raise ValueError(\"유효한 유튜브 URL에서 video ID를 추출할 수 없습니다.\")\n",
    "\n",
    "        transcript_list = YouTubeTranscriptApi.get_transcript(video_id, languages=['ko', 'en'])\n",
    "        full_transcript = \" \".join([item['text'] for item in transcript_list])\n",
    "\n",
    "        if len(full_transcript) > MAX_TRANSCRIPT_CHARS:\n",
    "            print(f\"Script 크기 초과. 일부만 사용 (최대 {MAX_TRANSCRIPT_CHARS}자)\")\n",
    "            full_transcript = full_transcript[:MAX_TRANSCRIPT_CHARS]\n",
    "\n",
    "        print(\"Script 가져오기 성공\")\n",
    "        return {\"transcript\": full_transcript}\n",
    "    except Exception as e:\n",
    "        error_message = f\"Script 가져오기 실패: {e}\"\n",
    "        print(error_message)\n",
    "        return {\"transcript\": error_message}\n"
   ]
  },
  {
   "cell_type": "code",
   "execution_count": 7,
   "id": "69fc4e10",
   "metadata": {},
   "outputs": [],
   "source": [
    "def validation_node(state: AgentState) -> dict:\n",
    "    \"\"\"추출된 스크립트가 유효한지 검증합니다.\"\"\"\n",
    "    print(\"2. 스크립트 유효성 검증\")\n",
    "    transcript = state[\"transcript\"]\n",
    "    # messages를 직접 수정하기보다, 다음 엣지에서 판단할 정보를 담은 메시지를 새로 생성\n",
    "    if transcript.startswith(\"Script 가져오기 실패\"):\n",
    "        return {\"messages\": state[\"messages\"] + [SystemMessage(content=\"자막 추출 실패\")]}\n",
    "    elif len(transcript) < 100:\n",
    "        return {\"messages\": state[\"messages\"] + [SystemMessage(content=\"자막 내용이 너무 짧습니다\")]}\n",
    "    else:\n",
    "        print(\"유효성 검증 통과\")\n",
    "        # 통과했을 때는 메시지를 추가하지 않아도 됨\n",
    "        return {}"
   ]
  },
  {
   "cell_type": "code",
   "execution_count": 8,
   "id": "43e54530",
   "metadata": {},
   "outputs": [],
   "source": [
    "def summarize_node(state: AgentState) -> dict:\n",
    "    \"\"\"핵심 내용을 바탕으로 최종 요약을 생성합니다.\"\"\"\n",
    "    # 유효성 검증: transcript가 없거나, validation_node에서 실패 메시지가 있으면 요약하지 않음\n",
    "    context = state.get(\"transcript\", None)\n",
    "    last_message = state[\"messages\"][-1] if state.get(\"messages\") else None\n",
    "    last_message_content = (\n",
    "        last_message.content if hasattr(last_message, \"content\") else last_message.get(\"content\", \"\") if last_message else \"\"\n",
    "    )\n",
    "\n",
    "    # validation_node에서 실패 메시지가 추가된 경우 요약하지 않고 안내 메시지 반환\n",
    "    if \"자막 추출 실패\" in last_message_content or \"자막 내용이 너무 짧습니다\" in last_message_content:\n",
    "        print(\"요약 생략: 유효성 검증 실패\")\n",
    "        return {\"summary\": last_message_content}\n",
    "\n",
    "    if not context or not isinstance(context, str) or len(context.strip()) == 0:\n",
    "        print(\"요약 생략: transcript가 비어있음\")\n",
    "        return {\"summary\": \"유효한 스크립트 내용이 제공되지 않았습니다.\"}\n",
    "\n",
    "    print(\"4. 최종 요약 생성\")\n",
    "    prompt = [\n",
    "        SystemMessage(\n",
    "            content=(\n",
    "                \"당신은 주어진 긴 글(유튜브 스크립트)의 내용을 완벽하게 이해하고, 핵심만 정확히 요약해주는 전문 분석가입니다. \"\n",
    "                \"답변은 반드시 한국어로 작성해주세요. 답변에 영상 루틴의 강도를 포함해주세요. \"\n",
    "                \"줄바꿈을 적절히 해서 가독성을 올린 응답을 생성하세요. \"\n",
    "                \"반드시 각 스트레칭 동작의 타겟 신체 부위를 스크립트의 내용에만 근거하여 함께 알려주세요.\"\n",
    "            )\n",
    "        ),\n",
    "        HumanMessage(content=f\"[Provided Context]\\n---\\n{context}\\n---\\n\\n이 영상의 내용을 요약해주세요.\")\n",
    "    ]\n",
    "    try:\n",
    "        response = llm.invoke(prompt)\n",
    "        summary = response.content\n",
    "        print(\"최종 요약 생성 성공\")\n",
    "        return {\"summary\": summary}\n",
    "    except Exception as e:\n",
    "        error_message = f\"최종 요약 생성 중 오류: {e}\"\n",
    "        print(error_message)\n",
    "        return {\"summary\": \"최종 요약 생성 중 오류가 발생했습니다.\"}"
   ]
  },
  {
   "cell_type": "code",
   "execution_count": 9,
   "id": "5a7f404a",
   "metadata": {},
   "outputs": [],
   "source": [
    "def should_continue(state: AgentState) -> str:\n",
    "    \"\"\"자막 유효성 검증 후 다음 단계를 결정하는 엣지\"\"\"\n",
    "    # 초기 입력 메시지는 1개, validation_node에서 메시지를 추가하면 2개가 됨\n",
    "    if len(state['messages']) == 1:\n",
    "        # validation_node에서 메시지를 추가하지 않음 = 성공\n",
    "        return \"continue\"\n",
    "    \n",
    "    # validation_node에서 메시지를 추가한 경우, 해당 메시지 내용을 확인\n",
    "    last_message_obj = state['messages'][-1]\n",
    "    \n",
    "    # 객체일 수도, 딕셔너리일 수도 있으므로 안전하게 내용에 접근\n",
    "    last_message_content = last_message_obj.content if hasattr(last_message_obj, 'content') else last_message_obj['content']\n",
    "    \n",
    "    if \"자막 추출 실패\" in last_message_content or \"자막 내용이 너무 짧습니다\" in last_message_content:\n",
    "        print(f\"진행 중단: {last_message_content}\")\n",
    "        # 최종 실패 메시지는 summarize_node가 아닌 END로 가는 경로에서 직접 설정할 수 없음\n",
    "        # 따라서 summarize_node가 이 상태를 보고 실패 메시지를 생성하도록 유도하거나, 여기서 바로 END로 보냄\n",
    "        return \"end\"\n",
    "    else:\n",
    "        return \"continue\""
   ]
  },
  {
   "cell_type": "code",
   "execution_count": 10,
   "id": "1e7fd828",
   "metadata": {},
   "outputs": [],
   "source": [
    "graph_builder = StateGraph(AgentState)"
   ]
  },
  {
   "cell_type": "code",
   "execution_count": 11,
   "id": "7c2bac46",
   "metadata": {},
   "outputs": [
    {
     "data": {
      "text/plain": [
       "<langgraph.graph.state.StateGraph at 0x249078117d0>"
      ]
     },
     "execution_count": 11,
     "metadata": {},
     "output_type": "execute_result"
    }
   ],
   "source": [
    "graph_builder.add_node(\"get_script\", get_script_node)\n",
    "graph_builder.add_node(\"validate_script\", validation_node)\n",
    "graph_builder.add_node(\"summarize\", summarize_node)"
   ]
  },
  {
   "cell_type": "code",
   "execution_count": 12,
   "id": "690beec6",
   "metadata": {},
   "outputs": [],
   "source": [
    "graph_builder.set_entry_point(\"get_script\")\n",
    "\n",
    "graph_builder.add_edge(\"get_script\", \"validate_script\")\n",
    "\n",
    "graph_builder.add_conditional_edges(\n",
    "    \"validate_script\",\n",
    "    should_continue,\n",
    "    {\n",
    "        \"continue\": \"summarize\",\n",
    "        \"end\": END\n",
    "    }\n",
    ")\n",
    "graph_builder.add_edge(\"summarize\", END)\n",
    "\n",
    "# 그래프 컴파일\n",
    "script_agent = graph_builder.compile()"
   ]
  },
  {
   "cell_type": "code",
   "execution_count": 13,
   "id": "e2fa42c3",
   "metadata": {},
   "outputs": [
    {
     "data": {
      "image/png": "[encoded data removed]",
      "text/plain": [
       "<langgraph.graph.state.CompiledStateGraph object at 0x0000024907AE35D0>"
      ]
     },
     "execution_count": 13,
     "metadata": {},
     "output_type": "execute_result"
    }
   ],
   "source": [
    "script_agent"
   ]
  },
  {
   "cell_type": "code",
   "execution_count": 14,
   "id": "bfa0b020",
   "metadata": {},
   "outputs": [
    {
     "name": "stdout",
     "output_type": "stream",
     "text": [
      "진행현황\n",
      "1. 자막 추출\n",
      "Script 가져오기 성공\n",
      "2. 스크립트 유효성 검증\n",
      "유효성 검증 통과\n",
      "4. 최종 요약 생성\n",
      "최종 요약 생성 성공\n",
      "\n",
      "\n",
      "--최종 요약 결과--\n",
      "안녕하세요! 이번 영상에서는 웅산이 전신을 시원하게 풀어주는 원 외각 운동을 소개합니다. 이 운동은 다른 운동 전 몸을 풀어 부상의 위험을 줄이고 운동 효율을 높여줍니다.\n",
      "\n",
      "**운동 루틴 요약:**\n",
      "\n",
      "1. **어깨 스트레칭**  \n",
      "   - **타겟 부위:** 어깨  \n",
      "   - 팔을 크게 돌리며 어깨를 풀어줍니다.\n",
      "\n",
      "2. **가슴 스트레칭**  \n",
      "   - **타겟 부위:** 가슴  \n",
      "   - 팔꿈치를 뒤로 젖히며 가슴을 열어줍니다.\n",
      "\n",
      "3. **등 스트레칭**  \n",
      "   - **타겟 부위:** 등  \n",
      "   - 팔을 위로 뻗고 양옆으로 늘립니다.\n",
      "\n",
      "4. **몸통 트위스트**  \n",
      "   - **타겟 부위:** 몸통  \n",
      "   - 상체를 비틀어 몸통을 스트레칭합니다.\n",
      "\n",
      "5. **하체 스트레칭 (와이드 스쿼트)**  \n",
      "   - **타겟 부위:** 허벅지 안쪽, 옆구리, 어깨  \n",
      "   - 다리를 넓게 벌리고 앉으며 스트레칭합니다.\n",
      "\n",
      "6. **허벅지 뒤쪽 스트레칭**  \n",
      "   - **타겟 부위:** 허벅지 뒤쪽, 옆구리  \n",
      "   - 상체를 숙이고 다리를 번갈아 스트레칭합니다.\n",
      "\n",
      "7. **발목 및 손목 스트레칭**  \n",
      "   - **타겟 부위:** 손목, 발목  \n",
      "   - 손목과 발목을 가볍게 돌려줍니다.\n",
      "\n",
      "8. **점핑 10회**  \n",
      "   - **타겟 부위:** 전신  \n",
      "   - 마지막으로 점핑으로 심박수를 올립니다.\n",
      "\n",
      "이 루틴을 통해 몸을 충분히 풀어주고 준비 운동을 마무리하면 운동 효율이 높아집니다. 운동 전에 잊지 말고 이 루틴을 꼭 해보세요!\n"
     ]
    }
   ],
   "source": [
    "if __name__ == \"__main__\":\n",
    "    YOUTUBE_URL = \"https://youtu.be/U6nnxml9GRs?si=Fq3hZImCCfBkbQZR\"\n",
    "\n",
    "    print(\"진행현황\")\n",
    "    \n",
    "    initial_input = {\"messages\": [{\"role\": \"user\", \"content\": YOUTUBE_URL}]}\n",
    "    final_state = script_agent.invoke(initial_input)\n",
    "    final_summary = final_state.get('summary', '요약 결과가 없습니다.')\n",
    "\n",
    "    print(\"\\n\\n--최종 요약 결과--\")\n",
    "    print(final_summary)\n"
   ]
  }
 ],
 "metadata": {
  "kernelspec": {
   "display_name": "youtube-agent",
   "language": "python",
   "name": "python3"
  },
  "language_info": {
   "codemirror_mode": {
    "name": "ipython",
    "version": 3
   },
   "file_extension": ".py",
   "mimetype": "text/x-python",
   "name": "python",
   "nbconvert_exporter": "python",
   "pygments_lexer": "ipython3",
   "version": "3.11.9"
  }
 },
 "nbformat": 4,
 "nbformat_minor": 5
}

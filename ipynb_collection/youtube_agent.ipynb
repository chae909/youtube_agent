{
 "cells": [
  {
   "cell_type": "code",
   "execution_count": 1,
   "id": "53252c29",
   "metadata": {},
   "outputs": [],
   "source": [
    "from typing_extensions import TypedDict\n",
    "from langgraph.graph import StateGraph, START, END\n",
    "from langchain_openai import ChatOpenAI\n",
    "from dotenv import load_dotenv\n",
    "from langchain_core.prompts import ChatPromptTemplate\n",
    "from pydantic import BaseModel, Field\n",
    "from typing import Literal\n",
    "from typing import TypedDict, List, Optional, Dict"
   ]
  },
  {
   "cell_type": "code",
   "execution_count": 2,
   "id": "7d02ec93",
   "metadata": {},
   "outputs": [],
   "source": [
    "load_dotenv()\n",
    "llm = ChatOpenAI(model=\"gpt-4o-mini\", streaming=True)"
   ]
  },
  {
   "cell_type": "code",
   "execution_count": 3,
   "id": "10ea3df3",
   "metadata": {},
   "outputs": [],
   "source": [
    "class AgentState(TypedDict, total=False):\n",
    "    url: str\n",
    "    reply: Optional[str]\n",
    "    script_summary: Optional[Dict[str, str | List[str]]]\n",
    "    comment_summary: Optional[str]\n",
    "\n",
    "graph_builder = StateGraph(AgentState)"
   ]
  },
  {
   "cell_type": "code",
   "execution_count": 4,
   "id": "3fe7137b",
   "metadata": {},
   "outputs": [],
   "source": [
    "# 라우터 설정 \n",
    "class Route(BaseModel):\n",
    "    target: Literal['summarize_script', 'summarize_comment'] = Field(\n",
    "        description=\"The target for the query to answer\"\n",
    "    )\n",
    "\n",
    "# 라우터 프롬프트 설정 \n",
    "router_system_prompt = \"\"\"\n",
    "You are an expert at routing a user's message given these variables:\n",
    "- URL: the YouTube video link (may be empty if none)\n",
    "- 질문: the user's initial question or query\n",
    "\n",
    "Classify a user's input into one of two categories: 'summarize_script' or 'summarize_comment'.\n",
    "\n",
    "- If the message **does not contain a state[reply]** or **has blank state[reply]** (e.g., includes 'youtube.com' or 'youtu.be'), always route it to 'summarize_script'. \n",
    "\n",
    "- If the user's message is a **positive or affirmative response to a question like** \"영상에 대한 댓글 반응도 궁금하시다면 알려드릴게요!\" — such as \"응\", \"네\", \"보여줘\", \"궁금해\", etc., then route it to 'summarize_comment'.\n",
    "\n",
    "- If the user does not respond or responds **negatively** (e.g., \"괜찮아\", \"글쎄\", \"아니\"), **do not route anywhere**. This means the flow should end silently.\n",
    "\"\"\"\n",
    "\n",
    "# 라우터 프롬프트 템플릿 설정\n",
    "router_prompt = ChatPromptTemplate.from_messages([\n",
    "    (\"system\", router_system_prompt),\n",
    "    (\"user\", \"URL: {url}\\n사용자 답변: {reply}\")\n",
    "])\n",
    "\n",
    "# 라우터 형식으로 구조화한 llm 설정\n",
    "structured_router_llm = llm.with_structured_output(Route)"
   ]
  },
  {
   "cell_type": "code",
   "execution_count": 5,
   "id": "0c5e4bb0",
   "metadata": {},
   "outputs": [],
   "source": [
    "def router(state: AgentState) -> Literal['summarize_script', 'commentsummarize_comment_summary']:\n",
    "    \"\"\"\n",
    "    주어진 state에서 쿼리를 기반으로 적절한 경로를 결정합니다\n",
    "\n",
    "    Args:\n",
    "        state (AgentState): 에이전트의 현재 상태를 나타내는 딕셔너리\n",
    "\n",
    "    Returns:\n",
    "        AgentState: Literal['summarize_script', 'summarize_comment']: 쿼리에 따라 선택된 경로를 반환합니다.\n",
    "    \"\"\"\n",
    "\n",
    "    url = state.get('url', '')\n",
    "    reply = state.get('reply', '')\n",
    "    \n",
    "    router_chain = router_prompt | structured_router_llm\n",
    "    route = router_chain.invoke({\"url\": url, \"reply\": reply})\n",
    "\n",
    "    return route.target"
   ]
  },
  {
   "cell_type": "code",
   "execution_count": 6,
   "id": "b6b80d70",
   "metadata": {},
   "outputs": [],
   "source": [
    "from script_agent_05 import graph as script_agent\n",
    "from comment_agent_05 import graph as comment_agent"
   ]
  },
  {
   "cell_type": "code",
   "execution_count": 7,
   "id": "e8f5b8cc",
   "metadata": {},
   "outputs": [
    {
     "data": {
      "text/plain": [
       "<langgraph.graph.state.StateGraph at 0x18be35af5d0>"
      ]
     },
     "execution_count": 7,
     "metadata": {},
     "output_type": "execute_result"
    }
   ],
   "source": [
    "graph_builder.add_node('summarize_script', script_agent)\n",
    "graph_builder.add_node('summarize_comment', comment_agent)"
   ]
  },
  {
   "cell_type": "code",
   "execution_count": 8,
   "id": "6638795b",
   "metadata": {},
   "outputs": [
    {
     "data": {
      "text/plain": [
       "<langgraph.graph.state.StateGraph at 0x18be35af5d0>"
      ]
     },
     "execution_count": 8,
     "metadata": {},
     "output_type": "execute_result"
    }
   ],
   "source": [
    "graph_builder.add_conditional_edges(\n",
    "    START,\n",
    "    router,\n",
    "    {   # 리턴값 :  노드이름 \n",
    "        'summarize_script': 'summarize_script',\n",
    "        'summarize_comment': 'summarize_comment',\n",
    "    }\n",
    ")\n",
    "\n",
    "graph_builder.add_edge('summarize_script', END)\n",
    "graph_builder.add_edge('summarize_comment', END)"
   ]
  },
  {
   "cell_type": "code",
   "execution_count": 9,
   "id": "77a77c62",
   "metadata": {},
   "outputs": [
    {
     "data": {
      "image/png": "[encoded data removed]",
      "text/plain": [
       "<langgraph.graph.state.CompiledStateGraph object at 0x0000018BE34BBBD0>"
      ]
     },
     "execution_count": 9,
     "metadata": {},
     "output_type": "execute_result"
    }
   ],
   "source": [
    "graph = graph_builder.compile()\n",
    "graph"
   ]
  },
  {
   "cell_type": "code",
   "execution_count": 10,
   "id": "89114765",
   "metadata": {},
   "outputs": [],
   "source": [
    "from langgraph.checkpoint.memory import MemorySaver\n",
    "\n",
    "memory = MemorySaver()\n",
    "\n",
    "graph_memory = graph_builder.compile(checkpointer=memory)"
   ]
  },
  {
   "cell_type": "code",
   "execution_count": null,
   "id": "56036433",
   "metadata": {},
   "outputs": [],
   "source": [
    "def continue_with_memory(graph, memory, config: dict, update: dict):\n",
    "    snapshot = memory.get_state(config)\n",
    "    previous_state = snapshot._asdict()\n",
    "    new_state = {**previous_state, **update}\n",
    "    return graph.invoke(new_state, config=config)"
   ]
  },
  {
   "cell_type": "code",
   "execution_count": 12,
   "id": "d80a805c",
   "metadata": {},
   "outputs": [],
   "source": [
    "config = {\"configurable\": {\"thread_id\": \"1\"}}\n",
    "url = 'https://youtu.be/sLe6jgHoYtk?si=BP39AJQL1PvIoWBe'\n"
   ]
  },
  {
   "cell_type": "code",
   "execution_count": 13,
   "id": "f5974b62",
   "metadata": {},
   "outputs": [
    {
     "name": "stdout",
     "output_type": "stream",
     "text": [
      "🚀 [Tool] get_youtube_transcript 호출됨\n",
      "✅ 영상 ID 추출 성공: sLe6jgHoYtk\n",
      "✅ 1. 자막 추출 성공\n",
      "✅ 스크립트 추출 성공. 요약 단계로 이동합니다.\n",
      "🚀 [Tool] summarize_transcript 호출됨\n",
      "✅ 2. 요약 생성 성공\n",
      "📄 스크립트 요약 결과:\n",
      "```json\n",
      "{\n",
      "  \"요약\": \"이 영상은 아침에 일어나거나 운동 전에 할 수 있는 모닝 스트레칭 루틴을 소개합니다. 스트레스를 줄이고 몸을 부드럽게 깨우는 데 효과적입니다. 동작들은 간단하며 몸의 긴장을 풀고 유연성을 높입니다.\",\n",
      "  \"운동 강도\": \"모든 레벨\",\n",
      "  \"운동 루틴\": [\n",
      "    \"1. 🧘‍♀️ 누운 자세에서 호흡 - 코로 숨을 들이마시고 입으로 내쉬며 몸을 깨움\",\n",
      "    \"2. 🤲 손가락과 발가락 스트레칭 - 손목과 발목을 구부렸다 펴며 긴장을 풀기\",\n",
      "    \"3. 💪 팔 회전 - 팔꿈치로 큰 원을 그리며 어깨와 팔을 풀기\",\n",
      "    \"4. 🦵 다리와 몸통 스트레칭 - 몸을 좌우로 기울이며 옆구리 늘리기\",\n",
      "    \"5. 🦶 무릎 구부리기 - 무릎을 구부리고 다리를 뻗어 다리 근육 늘리기\",\n",
      "    \"6. 🤸‍♂️ 옆으로 누워 팔 스트레칭 - 팔을 사선으로 뻗어 어깨와 가슴 열기\",\n",
      "    \"7. 🙆‍♂️ 마무리 스트레칭 - 무릎 꿇거나 앉은 자세에서 목과 갈비뼈 스트레칭\"\n",
      "  ],\n",
      "  \"자극 신체 부위\": \"어깨, 허벅지, 종아리, 옆구리, 갈비뼈, 목\",\n",
      "  \"영상에 대한 댓글 반응도 궁금하시다면 알려드릴게요!\"\n",
      "}\n",
      "```\n"
     ]
    }
   ],
   "source": [
    "initial_state = {'url': url}\n",
    "step1_state = graph.invoke(initial_state, config=config)\n",
    "print(\"📄 스크립트 요약 결과:\")\n",
    "print(step1_state.get(\"script_summary\", \"\"))"
   ]
  },
  {
   "cell_type": "code",
   "execution_count": 14,
   "id": "95c15035",
   "metadata": {},
   "outputs": [
    {
     "ename": "AttributeError",
     "evalue": "'CompiledStateGraph' object has no attribute 'get'",
     "output_type": "error",
     "traceback": [
      "\u001b[1;31m---------------------------------------------------------------------------\u001b[0m",
      "\u001b[1;31mAttributeError\u001b[0m                            Traceback (most recent call last)",
      "Cell \u001b[1;32mIn[14], line 1\u001b[0m\n\u001b[1;32m----> 1\u001b[0m step2_state \u001b[38;5;241m=\u001b[39m \u001b[43mcontinue_with_memory\u001b[49m\u001b[43m(\u001b[49m\u001b[43mgraph\u001b[49m\u001b[43m,\u001b[49m\u001b[43m \u001b[49m\u001b[43mgraph_memory\u001b[49m\u001b[43m,\u001b[49m\u001b[43m \u001b[49m\u001b[43mconfig\u001b[49m\u001b[43m,\u001b[49m\u001b[43m \u001b[49m\u001b[43m{\u001b[49m\u001b[38;5;124;43m\"\u001b[39;49m\u001b[38;5;124;43mreply\u001b[39;49m\u001b[38;5;124;43m\"\u001b[39;49m\u001b[43m:\u001b[49m\u001b[43m \u001b[49m\u001b[38;5;124;43m\"\u001b[39;49m\u001b[38;5;124;43m응\u001b[39;49m\u001b[38;5;124;43m\"\u001b[39;49m\u001b[43m,\u001b[49m\u001b[43m \u001b[49m\u001b[38;5;124;43m\"\u001b[39;49m\u001b[38;5;124;43murl\u001b[39;49m\u001b[38;5;124;43m\"\u001b[39;49m\u001b[43m:\u001b[49m\u001b[43m \u001b[49m\u001b[43mstep1_state\u001b[49m\u001b[38;5;241;43m.\u001b[39;49m\u001b[43mget\u001b[49m\u001b[43m(\u001b[49m\u001b[38;5;124;43m\"\u001b[39;49m\u001b[38;5;124;43murl\u001b[39;49m\u001b[38;5;124;43m\"\u001b[39;49m\u001b[43m)\u001b[49m\u001b[43m}\u001b[49m\u001b[43m)\u001b[49m\n\u001b[0;32m      2\u001b[0m \u001b[38;5;28mprint\u001b[39m(\u001b[38;5;124m\"\u001b[39m\u001b[38;5;130;01m\\n\u001b[39;00m\u001b[38;5;124m💬 댓글 요약 결과:\u001b[39m\u001b[38;5;124m\"\u001b[39m)\n\u001b[0;32m      3\u001b[0m \u001b[38;5;28mprint\u001b[39m(step2_state\u001b[38;5;241m.\u001b[39mget(\u001b[38;5;124m\"\u001b[39m\u001b[38;5;124mcomment_summary\u001b[39m\u001b[38;5;124m\"\u001b[39m, \u001b[38;5;124m\"\u001b[39m\u001b[38;5;124m\"\u001b[39m))\n",
      "Cell \u001b[1;32mIn[11], line 2\u001b[0m, in \u001b[0;36mcontinue_with_memory\u001b[1;34m(graph, memory, config, update)\u001b[0m\n\u001b[0;32m      1\u001b[0m \u001b[38;5;28;01mdef\u001b[39;00m \u001b[38;5;21mcontinue_with_memory\u001b[39m(graph, memory, config: \u001b[38;5;28mdict\u001b[39m, update: \u001b[38;5;28mdict\u001b[39m):\n\u001b[1;32m----> 2\u001b[0m     snapshot \u001b[38;5;241m=\u001b[39m \u001b[43mmemory\u001b[49m\u001b[38;5;241;43m.\u001b[39;49m\u001b[43mget\u001b[49m(config)\n\u001b[0;32m      3\u001b[0m     previous_state \u001b[38;5;241m=\u001b[39m snapshot\u001b[38;5;241m.\u001b[39m_asdict()\n\u001b[0;32m      4\u001b[0m     new_state \u001b[38;5;241m=\u001b[39m {\u001b[38;5;241m*\u001b[39m\u001b[38;5;241m*\u001b[39mprevious_state, \u001b[38;5;241m*\u001b[39m\u001b[38;5;241m*\u001b[39mupdate}\n",
      "\u001b[1;31mAttributeError\u001b[0m: 'CompiledStateGraph' object has no attribute 'get'"
     ]
    }
   ],
   "source": [
    "step2_state = continue_with_memory(graph, graph_memory, config, {\"reply\": \"응\", \"url\": step1_state.get(\"url\")})\n",
    "print(\"\\n💬 댓글 요약 결과:\")\n",
    "print(step2_state.get(\"comment_summary\", \"\"))"
   ]
  }
 ],
 "metadata": {
  "kernelspec": {
   "display_name": "youtube-agent",
   "language": "python",
   "name": "python3"
  },
  "language_info": {
   "codemirror_mode": {
    "name": "ipython",
    "version": 3
   },
   "file_extension": ".py",
   "mimetype": "text/x-python",
   "name": "python",
   "nbconvert_exporter": "python",
   "pygments_lexer": "ipython3",
   "version": "3.11.9"
  }
 },
 "nbformat": 4,
 "nbformat_minor": 5
}

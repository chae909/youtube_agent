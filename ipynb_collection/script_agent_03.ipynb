{
 "cells": [
  {
   "cell_type": "code",
   "execution_count": null,
   "id": "6ec0915a",
   "metadata": {},
   "outputs": [],
   "source": [
    "from urllib.parse import urlparse, parse_qs\n",
    "from langgraph.graph import MessagesState, StateGraph\n",
    "from dotenv import load_dotenv\n",
    "from langchain_core.messages import AIMessage, HumanMessage, SystemMessage\n",
    "from langchain_core.tools import tool\n",
    "from langchain_openai import ChatOpenAI\n",
    "from langgraph.graph import START\n",
    "from langgraph.prebuilt import ToolNode, tools_condition\n",
    "from youtube_transcript_api import YouTubeTranscriptApi"
   ]
  },
  {
   "cell_type": "code",
   "execution_count": 2,
   "id": "e9d7318f",
   "metadata": {},
   "outputs": [
    {
     "data": {
      "text/plain": [
       "True"
      ]
     },
     "execution_count": 2,
     "metadata": {},
     "output_type": "execute_result"
    }
   ],
   "source": [
    "load_dotenv()"
   ]
  },
  {
   "cell_type": "code",
   "execution_count": null,
   "id": "b193a95f",
   "metadata": {},
   "outputs": [],
   "source": [
    "llm = ChatOpenAI(model=\"gpt-4o\", streaming=True)"
   ]
  },
  {
   "cell_type": "code",
   "execution_count": null,
   "id": "dc559a7d",
   "metadata": {},
   "outputs": [],
   "source": [
    "class AgentState(MessagesState):\n",
    "    pass\n",
    "\n",
    "graph_builder = StateGraph(AgentState)"
   ]
  },
  {
   "cell_type": "code",
   "execution_count": 5,
   "id": "8e7cf666",
   "metadata": {},
   "outputs": [],
   "source": [
    "@tool\n",
    "def get_youtube_transcript(video_url: str, max_transcript_chars: int = 10000) -> dict:\n",
    "    \"\"\"\n",
    "    주어진 유튜브 URL에서 영상의 스크립트(자막)를 추출합니다.\n",
    "    성공 시 스크립트 텍스트를, 실패 시 에러 메시지를 반환합니다.\n",
    "    \"\"\"\n",
    "    print(\"🚀 [Tool] get_youtube_transcript 호출됨\")\n",
    "    try:\n",
    "        # URL에서 비디오 ID 추출\n",
    "        parsed_url = urlparse(video_url)\n",
    "        hostname = parsed_url.hostname or \"\"\n",
    "        video_id = None\n",
    "        if \"youtu.be\" in hostname:\n",
    "            video_id = parsed_url.path[1:]\n",
    "        elif \"youtube.com\" in hostname:\n",
    "            qs = parse_qs(parsed_url.query)\n",
    "            video_id = qs.get(\"v\", [None])[0]\n",
    "\n",
    "        if not video_id:\n",
    "            return {\"error\": \"유효한 유튜브 URL에서 Video ID를 추출할 수 없습니다.\"}\n",
    "\n",
    "        # 자막 추출\n",
    "        transcript_list = YouTubeTranscriptApi.get_transcript(video_id, languages=['ko', 'en'])\n",
    "        full_transcript = \" \".join([item['text'] for item in transcript_list])\n",
    "\n",
    "        # 자막 길이 제한\n",
    "        if len(full_transcript) > max_transcript_chars:\n",
    "            print(f\"⚠️ 자막 크기 초과. 일부만 사용 (최대 {max_transcript_chars}자)\")\n",
    "            full_transcript = full_transcript[:max_transcript_chars]\n",
    "        \n",
    "        # 자막 내용 유효성 검사\n",
    "        if len(full_transcript) < 100:\n",
    "             return {\"error\": \"자막 내용이 너무 짧아 요약할 수 없습니다.\"}\n",
    "\n",
    "        print(\"✅ 1. 자막 추출 성공\")\n",
    "        return {\"transcript\": full_transcript}\n",
    "\n",
    "    except Exception as e:\n",
    "        error_message = f\"자막을 가져오는 데 실패했습니다: {e}\"\n",
    "        print(f\"🚨 [Tool] 에러: {error_message}\")\n",
    "        return {\"error\": error_message}"
   ]
  },
  {
   "cell_type": "code",
   "execution_count": 6,
   "id": "078cfeb1",
   "metadata": {},
   "outputs": [],
   "source": [
    "summarize_prompt = (\"너는 유튜브 영상 URL을 입력받아, 해당 영상의 자막을 추출하고 분석하는 AI 에이전트야.\\n\\n\"\n",
    "                    \"**업무 흐름:**\\n\\n\"\n",
    "                    \"1. **자막 추출:** 먼저 'get_youtube_transcript' 도구를 사용해 영상의 자막(스크립트)을 가져와.\\n\"\n",
    "                    \"   - **성공 시:** 추출된 스크립트를 다음 단계로 넘겨.\\n\"\n",
    "                    \"   - **실패 시:** 요약을 시도하지 말고, 발생한 에러 메시지를 사용자에게 그대로 전달해.\\n\\n\"\n",
    "                    \"2. **내용 분석 및 요약:** 자막 추출에 성공하면, 스크립트 내용을 'summarize_transcript' 도구를 사용하여 분석하고 요약해. 최종 결과물은 반드시 아래의 '필수 JSON 출력 형식'을 완벽하게 따라야 해.\\n\\n\"\n",
    "                    \"--- \\n\\n\"\n",
    "                    \"**필수 JSON 출력 형식:**\\n\\n\"\n",
    "                    \"스크립트를 분석하여 다음 규칙에 따라 JSON 객체를 생성해야 해.\\n\\n\"\n",
    "                    \"- **summary**: 영상 전체 내용을 압축한 핵심 요약\\n\"\n",
    "                    \"- **intensity**: 영상에서 언급된 운동 강도 (예: 하, 중, 상, 초급자용 등)\\n\"\n",
    "                    \"- **routine**: 영상에 나오는 각 스트레칭 동작의 정보를 담는 배열. 각 동작은 다음 두 키를 가져야 해.\\n\"\n",
    "                    \"  - **movement_name**: 스트레칭 동작의 이름\\n\"\n",
    "                    \"  - **target_body_part**: **스크립트 내용에만 근거하여** 해당 동작이 목표로 하는 신체 부위\\n\\n\"\n",
    "                    \"**중요 규칙:**\\n\"\n",
    "                    \"- 최종 응답은 **JSON 객체**만 포함해야 해. 어떤 설명이나 추가 텍스트도 넣지 마.\\n\"\n",
    "                    \"- JSON 내부의 모든 텍스트는 한국어로 작성해야 해.\\n\\n\"\n",
    "                    \"**JSON 구조 예시:**\\n\"\n",
    "                    \"```json\\n\"\n",
    "                    \"{\\n\"\n",
    "                    '  \"summary\": \"영상 전체 내용을 압축한 핵심 요약\",\\n'\n",
    "                    '  \"intensity\": \"영상에서 언급된 운동 강도 (예: 하, 중, 상, 초급자용 등)\",\\n'\n",
    "                    '  \"routine\": [\\n'\n",
    "                    '    {\\n'\n",
    "                    '      \"movement_name\": \"첫 번째 스트레칭 동작 이름\",\\n'\n",
    "                    '      \"target_body_part\": \"해당 동작의 타겟 신체 부위\"\\n'\n",
    "                    '    },\\n'\n",
    "                    '    {\\n'\n",
    "                    '      \"movement_name\": \"두 번째 스트레칭 동작 이름\",\\n'\n",
    "                    '      \"target_body_part\": \"해당 동작의 타겟 신체 부위\"\\n'\n",
    "                    '    }\\n'\n",
    "                    '  ]\\n'\n",
    "                    '}\\n'\n",
    "                    \"```\")"
   ]
  },
  {
   "cell_type": "code",
   "execution_count": 7,
   "id": "18dfa10f",
   "metadata": {},
   "outputs": [],
   "source": [
    "@tool\n",
    "def summarize_transcript(transcript: str) -> str:\n",
    "    \"\"\"\n",
    "    주어진 스크립트(자막) 텍스트를 바탕으로 영상 내용을 요약합니다.\n",
    "    \"\"\"\n",
    "    print(\"🚀 [Tool] summarize_transcript 호출됨\")\n",
    "    prompt = [\n",
    "        SystemMessage(\n",
    "            content=summarize_prompt\n",
    "        ),\n",
    "        HumanMessage(content=f\"[분석할 스크립트]\\n---\\n{transcript}\\n---\\n\\n이 영상의 내용을 핵심만 요약해주세요.\")\n",
    "    ]\n",
    "    try:\n",
    "        response = llm.invoke(prompt)\n",
    "        summary = response.content\n",
    "        print(\"✅ 2. 요약 생성 성공\")\n",
    "        return summary\n",
    "    except Exception as e:\n",
    "        error_message = f\"요약 생성 중 오류가 발생했습니다: {e}\"\n",
    "        print(f\"🚨 [Tool] 에러: {error_message}\")\n",
    "        return error_message"
   ]
  },
  {
   "cell_type": "code",
   "execution_count": 8,
   "id": "c3c98875",
   "metadata": {},
   "outputs": [],
   "source": [
    "tool_list = [get_youtube_transcript, summarize_transcript]\n",
    "tool_node = ToolNode(tool_list)\n",
    "llm_with_tools = llm.bind_tools(tool_list)"
   ]
  },
  {
   "cell_type": "code",
   "execution_count": 9,
   "id": "35efdb30",
   "metadata": {},
   "outputs": [],
   "source": [
    "def agent(state: AgentState) -> AgentState:\n",
    "    \"\"\"\n",
    "    에이전트의 핵심 로직입니다. 현재 상태를 받아 LLM을 호출하고,\n",
    "    그 결과를 상태에 추가하여 반환합니다.\n",
    "    \"\"\"\n",
    "    print(\"🤖 [Agent] 호출됨\")\n",
    "\n",
    "    system_message = SystemMessage(\n",
    "        content=(\n",
    "            \"너는 유튜브 영상 URL을 입력받아, 해당 영상의 자막을 추출하고 요약하는 AI 에이전트야. \"\n",
    "            \"먼저 'get_youtube_transcript' 도구를 사용해 자막을 가져와. \"\n",
    "            \"자막 추출에 성공하면, 그 결과를 'summarize_transcript' 도구에 넘겨 최종 요약을 생성해. \"\n",
    "            \"만약 자막 추출 과정에서 에러가 발생하면, 요약을 시도하지 말고 사용자에게 에러 메시지를 그대로 전달해.\"\n",
    "        )\n",
    "    )\n",
    "\n",
    "    messages = [system_message] + state[\"messages\"]\n",
    "    response = llm_with_tools.invoke(messages)\n",
    "\n",
    "    return {\"messages\": [response]}"
   ]
  },
  {
   "cell_type": "code",
   "execution_count": 10,
   "id": "5aca0442",
   "metadata": {},
   "outputs": [
    {
     "data": {
      "text/plain": [
       "<langgraph.graph.state.StateGraph at 0x28a5c7fd110>"
      ]
     },
     "execution_count": 10,
     "metadata": {},
     "output_type": "execute_result"
    }
   ],
   "source": [
    "graph_builder.add_node(\"agent\", agent)\n",
    "graph_builder.add_node(\"tools\", tool_node)"
   ]
  },
  {
   "cell_type": "code",
   "execution_count": 11,
   "id": "a75f6dfd",
   "metadata": {},
   "outputs": [
    {
     "data": {
      "text/plain": [
       "<langgraph.graph.state.StateGraph at 0x28a5c7fd110>"
      ]
     },
     "execution_count": 11,
     "metadata": {},
     "output_type": "execute_result"
    }
   ],
   "source": [
    "graph_builder.add_edge(START, \"agent\")\n",
    "graph_builder.add_conditional_edges(\"agent\", tools_condition)\n",
    "graph_builder.add_edge(\"tools\", \"agent\")"
   ]
  },
  {
   "cell_type": "code",
   "execution_count": 12,
   "id": "0a0e912f",
   "metadata": {},
   "outputs": [
    {
     "data": {
      "image/png": "[encoded data removed]",
      "text/plain": [
       "<langgraph.graph.state.CompiledStateGraph object at 0x0000028A5CAC8290>"
      ]
     },
     "execution_count": 12,
     "metadata": {},
     "output_type": "execute_result"
    }
   ],
   "source": [
    "graph = graph_builder.compile()\n",
    "graph"
   ]
  },
  {
   "cell_type": "code",
   "execution_count": 13,
   "id": "5ad77427",
   "metadata": {},
   "outputs": [],
   "source": [
    "def run_agent(url: str):\n",
    "    \"\"\"에이전트를 실행하고 최종 결과를 스트리밍으로 출력하는 함수\"\"\"\n",
    "    inputs = {\"messages\": [HumanMessage(content=url)]}\n",
    "    for chunk in graph.stream(inputs, stream_mode=\"values\"):\n",
    "        last_message = chunk[\"messages\"][-1]\n",
    "        if isinstance(last_message, AIMessage) and not last_message.tool_calls:\n",
    "            print(\"\\n✅ 최종 요약:\\n\")\n",
    "            print(last_message.content)"
   ]
  },
  {
   "cell_type": "code",
   "execution_count": 14,
   "id": "446e360d",
   "metadata": {},
   "outputs": [
    {
     "name": "stdout",
     "output_type": "stream",
     "text": [
      "입력 URL: https://youtu.be/sLe6jgHoYtk?si=BP39AJQL1PvIoWBe\n",
      "---\n",
      "🤖 [Agent] 호출됨\n",
      "🚀 [Tool] get_youtube_transcript 호출됨\n",
      "✅ 1. 자막 추출 성공\n",
      "🤖 [Agent] 호출됨\n",
      "🚀 [Tool] summarize_transcript 호출됨\n",
      "✅ 2. 요약 생성 성공\n",
      "🤖 [Agent] 호출됨\n",
      "\n",
      "✅ 최종 요약:\n",
      "\n",
      "이 영상은 아침에 일어나거나 운동 전, 스트레스 해소를 위해 효과적인 모닝 스트레칭을 소개합니다. 다양한 스트레칭 동작을 통해 몸의 긴장을 풀고 기분을 상쾌하게 만드는 방법을 안내합니다.\n",
      "\n",
      "### 스트레칭 루틴\n",
      "1. **호흡 스트레칭**: 전신\n",
      "2. **손목과 발목 스트레칭**: 손목, 발목\n",
      "3. **옆구리 스트레칭**: 옆구리\n",
      "4. **무릎 구부리기**: 무릎\n",
      "5. **척추 회전 스트레칭**: 척추\n",
      "6. **마무리 스트레칭**: 전신\n",
      "\n",
      "### 운동 강도\n",
      "- **중** \n",
      "\n",
      "이 스트레칭들은 몸의 긴장을 완화시키고, 하루를 상쾌하게 시작하는 데 도움이 됩니다.\n"
     ]
    }
   ],
   "source": [
    "test_url = \"https://youtu.be/sLe6jgHoYtk?si=BP39AJQL1PvIoWBe\"\n",
    "print(f\"입력 URL: {test_url}\\n---\")\n",
    "run_agent(test_url)"
   ]
  }
 ],
 "metadata": {
  "kernelspec": {
   "display_name": "youtube-agent",
   "language": "python",
   "name": "python3"
  },
  "language_info": {
   "codemirror_mode": {
    "name": "ipython",
    "version": 3
   },
   "file_extension": ".py",
   "mimetype": "text/x-python",
   "name": "python",
   "nbconvert_exporter": "python",
   "pygments_lexer": "ipython3",
   "version": "3.11.9"
  }
 },
 "nbformat": 4,
 "nbformat_minor": 5
}

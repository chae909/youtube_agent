{
 "cells": [
  {
   "cell_type": "code",
   "execution_count": 1,
   "id": "6ec0915a",
   "metadata": {},
   "outputs": [],
   "source": [
    "import json\n",
    "from typing import TypedDict\n",
    "from urllib.parse import urlparse\n",
    "import re\n",
    "from dotenv import load_dotenv\n",
    "from langchain_core.messages import HumanMessage, SystemMessage\n",
    "from langchain_openai import ChatOpenAI\n",
    "from langgraph.graph import StateGraph, START, END\n",
    "from youtube_transcript_api import YouTubeTranscriptApi"
   ]
  },
  {
   "cell_type": "code",
   "execution_count": 2,
   "id": "e9d7318f",
   "metadata": {},
   "outputs": [
    {
     "data": {
      "text/plain": [
       "True"
      ]
     },
     "execution_count": 2,
     "metadata": {},
     "output_type": "execute_result"
    }
   ],
   "source": [
    "load_dotenv()"
   ]
  },
  {
   "cell_type": "code",
   "execution_count": 3,
   "id": "b193a95f",
   "metadata": {},
   "outputs": [],
   "source": [
    "llm = ChatOpenAI(model=\"gpt-4o\", streaming=True)"
   ]
  },
  {
   "cell_type": "code",
   "execution_count": 4,
   "id": "dc559a7d",
   "metadata": {},
   "outputs": [],
   "source": [
    "class AgentState(TypedDict):\n",
    "    \"\"\"\n",
    "    에이전트의 상태를 관리하는 객체입니다.\n",
    "\n",
    "    Attributes:\n",
    "        url (str): 사용자가 입력한 유튜브 URL\n",
    "        transcript (str): 추출된 영상 자막 텍스트\n",
    "        summary (str): LLM이 생성한 최종 요약 (JSON 형식)\n",
    "        error (str): 처리 과정에서 발생한 오류 메시지\n",
    "    \"\"\"\n",
    "    url: str\n",
    "    transcript: str\n",
    "    summary: str\n",
    "    error: str\n",
    "\n",
    "graph_builder = StateGraph(AgentState)"
   ]
  },
  {
   "cell_type": "code",
   "execution_count": 5,
   "id": "d9663d03",
   "metadata": {},
   "outputs": [],
   "source": [
    "def extract_video_id(url):\n",
    "    \"\"\"YouTube URL에서 영상 ID를 추출하는 헬퍼 함수입니다.\"\"\"\n",
    "    match = re.search(r\"(?:v=|\\/)([0-9A-Za-z_-]{11}).*\", url)\n",
    "    if match:\n",
    "        return match.group(1)\n",
    "    \n",
    "    parsed_url = urlparse(url)\n",
    "    if parsed_url.hostname == \"googleusercontent.com\" and parsed_url.path.startswith('/youtube.com/'):\n",
    "        return parsed_url.path.split('/')[-1]\n",
    "    \n",
    "    return None"
   ]
  },
  {
   "cell_type": "code",
   "execution_count": 6,
   "id": "8e7cf666",
   "metadata": {},
   "outputs": [],
   "source": [
    "def get_youtube_transcript(state: AgentState) -> dict:\n",
    "    \"\"\"\n",
    "    state에서 URL을 받아 자막을 추출하고, \n",
    "    결과를 state의 'transcript' 또는 'error' 필드에 저장합니다.\n",
    "    \"\"\"\n",
    "    print(\"🚀 [Tool] get_youtube_transcript 호출됨\")\n",
    "    user_url = state[\"url\"]\n",
    "    \n",
    "    try:\n",
    "        video_id = extract_video_id(user_url)\n",
    "        if not video_id:\n",
    "            raise ValueError(\"유효한 유튜브 URL에서 Video ID를 추출할 수 없습니다.\")\n",
    "\n",
    "        print(f\"✅ 영상 ID 추출 성공: {video_id}\")\n",
    "        transcript_list = YouTubeTranscriptApi.get_transcript(video_id, languages=['ko', 'en'])\n",
    "        transcript_text = \" \".join([item['text'] for item in transcript_list])\n",
    "\n",
    "        if len(transcript_text) < 100:\n",
    "            raise ValueError(\"자막 내용이 너무 짧아 요약할 수 없습니다.\")\n",
    "        \n",
    "        if len(transcript_text) > 15000:\n",
    "            print(f\"⚠️ 자막 크기 초과. 일부만 사용 (최대 15000자)\")\n",
    "            transcript_text = transcript_text[:15000]\n",
    "\n",
    "        print(\"✅ 1. 자막 추출 성공\")\n",
    "        return {\"transcript\": transcript_text, \"error\": None}\n",
    "\n",
    "    except Exception as e:\n",
    "        error_message = f\"ERROR: 자막 추출 중 오류 발생 - {e}\"\n",
    "        print(f\"🚨 {error_message}\")\n",
    "        return {\"transcript\": \"\", \"error\": error_message}"
   ]
  },
  {
   "cell_type": "code",
   "execution_count": 7,
   "id": "078cfeb1",
   "metadata": {},
   "outputs": [],
   "source": [
    "summarize_prompt = (\n",
    "    \"너는 유튜브 영상의 스크립트(자막)를 분석해, 간결하고 보기 좋은 **JSON 형식 요약**을 작성하는 AI 전문가입니다.\\n\\n\"\n",
    "\n",
    "    \"🔹 **목표**\\n\"\n",
    "    \"스크립트를 바탕으로 다음 항목들을 포함한 JSON 객체를 생성하세요. 각 항목은 정확하고 친절한 말투로 작성하되, 너무 길지 않게 요약하세요.\\n\\n\"\n",
    "\n",
    "    \"🔹 **출력 형식(JSON)**\\n\"\n",
    "    \"{\\n\"\n",
    "    '  \"요약\": \"영상의 핵심 내용을 줄바꿈 포함하여 부드럽게 설명\",\\n'\n",
    "    '  \"운동 강도\": \"예: 초급자용, 모든 레벨, 고강도 등\",\\n'\n",
    "    '  \"운동 루틴\": [\\n'\n",
    "    '    \"1. 🧘‍♀️ 동작 이름 - 간단한 설명\",\\n'\n",
    "    '    \"2. 🤲 동작 이름 - 간단한 설명\",\\n'\n",
    "    \"    ...\\n\"\n",
    "    \"  ],\\n\"\n",
    "    '  \"자극 신체 부위\": \"쉼표로 구분된 부위 목록 (ex. 어깨, 종아리, 허리)\"\\n\\n'\n",
    "    '  \"영상에 대한 댓글 반응도 궁금하시다면 알려드릴게요!\"\\n'\n",
    "    \"}\"\n",
    "\n",
    "    \"🔹 **작성 규칙**\\n\"\n",
    "    \"- 최종 출력은 반드시 JSON 객체만 포함하세요. 그 외의 주석, 설명은 절대 출력하지 마세요.\\n\"\n",
    "    \"- 목록은 너무 길지 않게 핵심 위주로 요약하세요. 단, 주요 동작은 빠짐없이 포함해야 합니다.\\n\"\n",
    "    \"- 각 동작 설명은 짧고 이해하기 쉽게 표현하고, 말투는 딱딱하지 않게 하세요.\\n\"\n",
    "    \"- 반드시 마지막에 댓글 요약 제공 여부에 대한 질문을 포함하세요.\\n\"\n",
    "    \"- 불명확한 내용은 임의로 추측하지 말고, 스크립트에 기반하여 최대한 문맥적으로 유추하세요.\\n\"\n",
    "    \"- 챗봇 인터페이스에서 **한눈에 보기 좋게** 표현하세요.\\n\"\n",
    ")"
   ]
  },
  {
   "cell_type": "code",
   "execution_count": 8,
   "id": "18dfa10f",
   "metadata": {},
   "outputs": [],
   "source": [
    "def summarize_transcript(state: AgentState) -> dict:\n",
    "    \"\"\"\n",
    "    state의 'transcript' 필드 내용을 바탕으로 요약을 생성하고, \n",
    "    'summary' 필드를 업데이트합니다.\n",
    "    \"\"\"\n",
    "    print(\"🚀 [Tool] summarize_transcript 호출됨\")\n",
    "    transcript = state[\"transcript\"]\n",
    "    \n",
    "    prompt_messages = [\n",
    "        SystemMessage(content=summarize_prompt),\n",
    "        HumanMessage(content=f\"[분석할 스크립트]\\n---\\n{transcript}\\n---\\n\\n이 영상의 내용을 분석하여 필수 JSON 형식에 맞춰 요약해주세요.\")\n",
    "    ]\n",
    "    try:\n",
    "        response = llm.invoke(prompt_messages)\n",
    "        summary = response.content\n",
    "        print(\"✅ 2. 요약 생성 성공\")\n",
    "        return {\"summary\": summary}\n",
    "    except Exception as e:\n",
    "        error_message = f\"ERROR: 요약 생성 중 오류 발생 - {e}\"\n",
    "        print(f\"🚨 {error_message}\")\n",
    "        return {\"summary\": \"\", \"error\": error_message}"
   ]
  },
  {
   "cell_type": "code",
   "execution_count": 9,
   "id": "2a2292e2",
   "metadata": {},
   "outputs": [],
   "source": [
    "def route_after_transcript(state: AgentState) -> str:\n",
    "    \"\"\"\n",
    "    state의 'error' 필드에 내용이 있는지 확인하여 다음 단계를 결정합니다.\n",
    "    \"\"\"\n",
    "    if state.get(\"error\"):\n",
    "        print(\"🚨 오류가 감지되어 프로세스를 종료합니다.\")\n",
    "        return END\n",
    "    else:\n",
    "        print(\"✅ 스크립트 추출 성공. 요약 단계로 이동합니다.\")\n",
    "        return \"summarize_transcript\""
   ]
  },
  {
   "cell_type": "code",
   "execution_count": 10,
   "id": "5aca0442",
   "metadata": {},
   "outputs": [
    {
     "data": {
      "text/plain": [
       "<langgraph.graph.state.StateGraph at 0x2562b69af50>"
      ]
     },
     "execution_count": 10,
     "metadata": {},
     "output_type": "execute_result"
    }
   ],
   "source": [
    "graph_builder.add_node(\"summarize_transcript\", summarize_transcript)\n",
    "graph_builder.add_node(\"get_youtube_transcript\", get_youtube_transcript)"
   ]
  },
  {
   "cell_type": "code",
   "execution_count": 11,
   "id": "a75f6dfd",
   "metadata": {},
   "outputs": [
    {
     "data": {
      "text/plain": [
       "<langgraph.graph.state.StateGraph at 0x2562b69af50>"
      ]
     },
     "execution_count": 11,
     "metadata": {},
     "output_type": "execute_result"
    }
   ],
   "source": [
    "graph_builder.add_edge(START, \"get_youtube_transcript\")\n",
    "graph_builder.add_conditional_edges(\n",
    "    \"get_youtube_transcript\",\n",
    "    route_after_transcript,\n",
    "    {\n",
    "        \"summarize_transcript\": \"summarize_transcript\",\n",
    "        END: END\n",
    "    }\n",
    ")\n",
    "graph_builder.add_edge(\"summarize_transcript\", END)"
   ]
  },
  {
   "cell_type": "code",
   "execution_count": 12,
   "id": "0a0e912f",
   "metadata": {},
   "outputs": [
    {
     "data": {
      "image/png": "[encoded data removed]",
      "text/plain": [
       "<langgraph.graph.state.CompiledStateGraph object at 0x000002562B268E50>"
      ]
     },
     "execution_count": 12,
     "metadata": {},
     "output_type": "execute_result"
    }
   ],
   "source": [
    "graph = graph_builder.compile()\n",
    "graph"
   ]
  },
  {
   "cell_type": "code",
   "execution_count": 13,
   "id": "5ad77427",
   "metadata": {},
   "outputs": [],
   "source": [
    "def run_agent(url: str):\n",
    "    \"\"\"\n",
    "    에이전트를 실행하고 최종 결과를 출력합니다.\n",
    "    - 초기 입력을 'url' 필드에 담아 전달합니다.\n",
    "    - 최종 결과는 'summary' 필드에서 가져옵니다.\n",
    "    - 'error' 필드를 확인하여 오류를 처리합니다.\n",
    "    \"\"\"\n",
    "    inputs = {\"url\": url}\n",
    "    final_state = graph.invoke(inputs)\n",
    "\n",
    "    if final_state.get(\"error\"):\n",
    "        print(\"\\n\" + \"=\"*30)\n",
    "        print(\"❌ 최종 실행 중 오류 발생:\")\n",
    "        print(\"=\"*30)\n",
    "        print(final_state[\"error\"])\n",
    "        return\n",
    "\n",
    "    content = final_state.get(\"summary\", \"\")\n",
    "\n",
    "    print(\"\\n\" + \"=\"*30)\n",
    "    print(\"✅ 최종 요약 (JSON 형식):\")\n",
    "    print(\"=\"*30)\n",
    "\n",
    "    print(content)\n"
   ]
  },
  {
   "cell_type": "code",
   "execution_count": 14,
   "id": "446e360d",
   "metadata": {},
   "outputs": [
    {
     "name": "stdout",
     "output_type": "stream",
     "text": [
      "입력 URL: https://youtu.be/sLe6jgHoYtk?si=BP39AJQL1PvIoWBe\n",
      "---\n",
      "🚀 [Tool] get_youtube_transcript 호출됨\n",
      "✅ 영상 ID 추출 성공: sLe6jgHoYtk\n",
      "✅ 1. 자막 추출 성공\n",
      "✅ 스크립트 추출 성공. 요약 단계로 이동합니다.\n",
      "🚀 [Tool] summarize_transcript 호출됨\n",
      "✅ 2. 요약 생성 성공\n",
      "\n",
      "==============================\n",
      "✅ 최종 요약 (JSON 형식):\n",
      "==============================\n",
      "```json\n",
      "{\n",
      "  \"요약\": \"이 영상은 아침에 일어나 상쾌하게 하루를 시작하거나 운동 전 워밍업으로 적합한 모닝 스트레칭 루틴을 안내합니다. 스트레스가 많은 날에도 효과적이며, 초보자도 쉽게 따라할 수 있는 동작들로 구성되어 있습니다. 온몸을 부드럽게 깨워주는 동작들로 몸의 긴장을 풀고 활력을 되찾을 수 있습니다.\",\n",
      "  \"운동 강도\": \"초급자용\",\n",
      "  \"운동 루틴\": [\n",
      "    \"1. 🧘‍♀️ 호흡 운동 - 코로 숨을 마시고 입으로 내쉬며 몸을 깨우기\",\n",
      "    \"2. 🤲 손발 스트레칭 - 손가락과 발가락을 펴고 구부리기\",\n",
      "    \"3. 🌀 팔꿈치 원 그리기 - W 모양으로 팔을 움직이며 어깨 풀기\",\n",
      "    \"4. 🌿 전신 스트레칭 - 손끝과 발뒤꿈치를 반대 방향으로 밀기\",\n",
      "    \"5. 🤸‍♀️ 옆구리 스트레칭 - 몸통을 좌우로 기울이며 옆구리 늘리기\",\n",
      "    \"6. 🦵 무릎과 고개 비틀기 - 무릎과 고개를 반대 방향으로 돌리기\",\n",
      "    \"7. 🦶 다리 들어올리기 - 한쪽 다리를 들어올려 반대 방향으로 넘기기\",\n",
      "    \"8. 🤸‍♂️ 옆으로 누워 팔 뻗기 - 옆으로 누워 팔과 머리 회전시키기\",\n",
      "    \"9. 🙆‍♀️ 무릎 꿇고 스트레칭 - 무릎 꿇은 자세에서 몸 풀기\"\n",
      "  ],\n",
      "  \"자극 신체 부위\": \"어깨, 옆구리, 허벅지, 종아리, 손목, 발목\",\n",
      "  \"영상에 대한 댓글 반응도 궁금하시다면 알려드릴게요!\"\n",
      "}\n",
      "```\n"
     ]
    }
   ],
   "source": [
    "test_url = \"https://youtu.be/sLe6jgHoYtk?si=BP39AJQL1PvIoWBe\"\n",
    "print(f\"입력 URL: {test_url}\\n---\")\n",
    "run_agent(test_url)"
   ]
  },
  {
   "cell_type": "code",
   "execution_count": null,
   "id": "b5f90502",
   "metadata": {},
   "outputs": [],
   "source": []
  }
 ],
 "metadata": {
  "kernelspec": {
   "display_name": "youtube-agent",
   "language": "python",
   "name": "python3"
  },
  "language_info": {
   "codemirror_mode": {
    "name": "ipython",
    "version": 3
   },
   "file_extension": ".py",
   "mimetype": "text/x-python",
   "name": "python",
   "nbconvert_exporter": "python",
   "pygments_lexer": "ipython3",
   "version": "3.11.9"
  }
 },
 "nbformat": 4,
 "nbformat_minor": 5
}
